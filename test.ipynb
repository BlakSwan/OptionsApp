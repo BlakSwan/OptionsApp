{
 "cells": [
  {
   "cell_type": "code",
   "execution_count": 13,
   "metadata": {},
   "outputs": [
    {
     "name": "stdout",
     "output_type": "stream",
     "text": [
      "<class 'pandas.core.frame.DataFrame'>\n",
      "RangeIndex: 1223021 entries, 0 to 1223020\n",
      "Data columns (total 16 columns):\n",
      " #   Column             Non-Null Count    Dtype         \n",
      "---  ------             --------------    -----         \n",
      " 0   contractSymbol     1223021 non-null  object        \n",
      " 1   strike             1223021 non-null  float64       \n",
      " 2   lastPrice          1223021 non-null  float64       \n",
      " 3   change             1223021 non-null  float64       \n",
      " 4   volume             1223021 non-null  float64       \n",
      " 5   openInterest       1223021 non-null  float64       \n",
      " 6   bid                1223021 non-null  float64       \n",
      " 7   ask                1223021 non-null  float64       \n",
      " 8   lastTradeDate      1223021 non-null  datetime64[ns]\n",
      " 9   impliedVolatility  1223021 non-null  float64       \n",
      " 10  inTheMoney         1223021 non-null  bool          \n",
      " 11  timestamp          1223021 non-null  object        \n",
      " 12  sample_date        1223021 non-null  object        \n",
      " 13  percentChange      529261 non-null   float64       \n",
      " 14  contractSize       529261 non-null   object        \n",
      " 15  expiryDate         1223021 non-null  datetime64[ns]\n",
      "dtypes: bool(1), datetime64[ns](2), float64(9), object(4)\n",
      "memory usage: 141.1+ MB\n"
     ]
    }
   ],
   "source": [
    "import pandas as pd\n",
    "import glob\n",
    "import datetime\n",
    "\n",
    "# Define the string that the file names must start with\n",
    "file_filter = 'AAPL'\n",
    "\n",
    "# Define the path to the directory containing the CSV files\n",
    "path = '/Users/chrisjackson/OptionsApp/data/' + file_filter\n",
    "\n",
    "# Use glob to get a list of all CSV files in the directory that start with the specified string\n",
    "all_files = glob.glob(path + \"/\" + file_filter + \"*.csv\")\n",
    "\n",
    "def add_sample_date(file_name):\n",
    "    # Read the CSV file into a data frame\n",
    "    df = pd.read_csv(file_name)\n",
    "    # Add a column to the data frame containing the date of the sample\n",
    "    df['sample_date'] = file_name[-16:-6]\n",
    "    return df\n",
    "\n",
    "# Combine all CSV files into a single data frame\n",
    "df = pd.concat((add_sample_date(f) for f in all_files), ignore_index=True)\n",
    "\n",
    "# Define a function to extract the expiration date from an OCC contract symbol\n",
    "def extract_expiry_date(occ_symbol):\n",
    "    year = int(occ_symbol[4:6])\n",
    "    month = int(occ_symbol[6:8])\n",
    "    day = int(occ_symbol[8:10])\n",
    "    expiry_date = datetime.datetime(year + 2000, month, day)\n",
    "    return expiry_date\n",
    "\n",
    "# Define a function to convert the timestamp to a datetime object\n",
    "def convert_timestamp(timestamp):\n",
    "    if len(timestamp) > 8:\n",
    "        timestamp = timestamp[-8:]        \n",
    "    hour = int(timestamp[0:2])\n",
    "    minute = int(timestamp[3:5])\n",
    "    second = int(timestamp[6:8])\n",
    "    return datetime.time(hour, minute, second)\n",
    "\n",
    "# Add a new column to the DataFrame with the expiry date\n",
    "df['expiryDate'] = df['contractSymbol'].apply(extract_expiry_date)\n",
    "\n",
    "# Convert the 'lastTradeDate' and 'timestamp' columns to datetime objects for future calculations\n",
    "df['lastTradeDate'] = pd.to_datetime(df['lastTradeDate'])\n",
    "\n",
    "# df['timestamp'] = pd.to_datetime(df['timestamp'], format='%H:%M:%S')\n",
    "df['timestamp'] = df['timestamp'].apply(convert_timestamp)\n",
    "\n",
    "# Drop the currency column\n",
    "df.drop('currency', axis=1, inplace=True)\n",
    "df.info()\n"
   ]
  },
  {
   "cell_type": "code",
   "execution_count": 14,
   "metadata": {},
   "outputs": [],
   "source": [
    "# Need to sort this into a multi-index dataframe by sample date and contract symbol\n",
    "\n",
    "# Set the multi-index\n",
    "df.set_index(['sample_date', 'contractSymbol'], inplace=True)\n",
    "\n",
    "# Sort by the timestamp\n",
    "df = df.sort_values(by=['timestamp'])\n"
   ]
  },
  {
   "cell_type": "code",
   "execution_count": 15,
   "metadata": {},
   "outputs": [
    {
     "data": {
      "text/plain": [
       "FrozenList([['2023-04-19', '2023-04-20', '2023-04-21', '2023-04-24', '2023-04-25', '2023-04-26', '2023-04-27', '2023-04-28', '2023-05-01', '2023-05-03', '2023-05-04', '2023-05-12', '2023-05-15', '2023-05-17', '2023-05-18', '2023-05-24', '2023-05-30', '2023-05-31', '2023-06-01'], ['AAPL230421C00050000', 'AAPL230421C00060000', 'AAPL230421C00065000', 'AAPL230421C00070000', 'AAPL230421C00075000', 'AAPL230421C00080000', 'AAPL230421C00085000', 'AAPL230421C00090000', 'AAPL230421C00095000', 'AAPL230421C00100000', 'AAPL230421C00105000', 'AAPL230421C00110000', 'AAPL230421C00115000', 'AAPL230421C00120000', 'AAPL230421C00125000', 'AAPL230421C00130000', 'AAPL230421C00135000', 'AAPL230421C00137000', 'AAPL230421C00138000', 'AAPL230421C00139000', 'AAPL230421C00140000', 'AAPL230421C00141000', 'AAPL230421C00142000', 'AAPL230421C00143000', 'AAPL230421C00144000', 'AAPL230421C00145000', 'AAPL230421C00146000', 'AAPL230421C00147000', 'AAPL230421C00148000', 'AAPL230421C00149000', 'AAPL230421C00150000', 'AAPL230421C00152500', 'AAPL230421C00155000', 'AAPL230421C00157500', 'AAPL230421C00160000', 'AAPL230421C00162500', 'AAPL230421C00165000', 'AAPL230421C00167500', 'AAPL230421C00170000', 'AAPL230421C00172500', 'AAPL230421C00175000', 'AAPL230421C00177500', 'AAPL230421C00180000', 'AAPL230421C00182500', 'AAPL230421C00185000', 'AAPL230421C00190000', 'AAPL230421C00195000', 'AAPL230421C00200000', 'AAPL230421C00205000', 'AAPL230421C00210000', 'AAPL230421C00215000', 'AAPL230421C00220000', 'AAPL230421C00225000', 'AAPL230421C00230000', 'AAPL230421C00235000', 'AAPL230421C00240000', 'AAPL230421C00245000', 'AAPL230421C00250000', 'AAPL230421C00255000', 'AAPL230421C00260000', 'AAPL230421C00265000', 'AAPL230421C00270000', 'AAPL230421C00275000', 'AAPL230421C00280000', 'AAPL230421C00290000', 'AAPL230421C00300000', 'AAPL230428C00050000', 'AAPL230428C00055000', 'AAPL230428C00060000', 'AAPL230428C00070000', 'AAPL230428C00080000', 'AAPL230428C00090000', 'AAPL230428C00095000', 'AAPL230428C00100000', 'AAPL230428C00105000', 'AAPL230428C00110000', 'AAPL230428C00115000', 'AAPL230428C00120000', 'AAPL230428C00125000', 'AAPL230428C00130000', 'AAPL230428C00135000', 'AAPL230428C00136000', 'AAPL230428C00137000', 'AAPL230428C00138000', 'AAPL230428C00139000', 'AAPL230428C00140000', 'AAPL230428C00141000', 'AAPL230428C00142000', 'AAPL230428C00143000', 'AAPL230428C00144000', 'AAPL230428C00145000', 'AAPL230428C00146000', 'AAPL230428C00147000', 'AAPL230428C00148000', 'AAPL230428C00149000', 'AAPL230428C00150000', 'AAPL230428C00152500', 'AAPL230428C00155000', 'AAPL230428C00157500', 'AAPL230428C00160000', ...]])"
      ]
     },
     "execution_count": 15,
     "metadata": {},
     "output_type": "execute_result"
    }
   ],
   "source": [
    "df.index.levels"
   ]
  },
  {
   "cell_type": "code",
   "execution_count": 16,
   "metadata": {},
   "outputs": [],
   "source": [
    "#Retreive the timestamp as a datetime object\n",
    "def get_timestamp_breakdown(timestamp):\n",
    "    hour = int(timestamp[0:2])\n",
    "    minute = int(timestamp[3:5])\n",
    "    second = int(timestamp[6:8])\n",
    "    return (hour, minute, second)"
   ]
  },
  {
   "cell_type": "code",
   "execution_count": 12,
   "metadata": {},
   "outputs": [],
   "source": [
    "# Get the value where the in the money column changes from False to True, pass in the first timestamp only for now\n",
    "def in_the_money(df):\n",
    "    # Assuming df is your DataFrame and 'column_name' is the column of interest\n",
    "    df['previous_value'] = df['column_name'].shift(1)\n",
    "    df['change_to_true'] = (df['previous_value'] == False) & (df['column_name'] == True)\n",
    "\n",
    "    # Get the index of the first row where the value changed to True\n",
    "    first_change_index = df['change_to_true'].idxmax()\n",
    "\n",
    "    # Get the first row where the value changed to True\n",
    "    first_change_row = df.loc[first_change_index]\n",
    "\n",
    "    return first_change_row\n"
   ]
  },
  {
   "cell_type": "code",
   "execution_count": 11,
   "metadata": {},
   "outputs": [
    {
     "name": "stderr",
     "output_type": "stream",
     "text": [
      "/var/folders/5q/1h7fcv954qj2xln19k_k5zfw0000gn/T/ipykernel_78521/1370244215.py:10: SettingWithCopyWarning: \n",
      "A value is trying to be set on a copy of a slice from a DataFrame\n",
      "\n",
      "See the caveats in the documentation: https://pandas.pydata.org/pandas-docs/stable/user_guide/indexing.html#returning-a-view-versus-a-copy\n",
      "  top_volume_options.sort_values(['sample_date', 'timestamp'], ascending=[True, False], inplace=True)\n"
     ]
    },
    {
     "ename": "AttributeError",
     "evalue": "'DataFrameGroupBy' object has no attribute 'reset_index'",
     "output_type": "error",
     "traceback": [
      "\u001b[0;31m---------------------------------------------------------------------------\u001b[0m",
      "\u001b[0;31mAttributeError\u001b[0m                            Traceback (most recent call last)",
      "Cell \u001b[0;32mIn[11], line 13\u001b[0m\n\u001b[1;32m     10\u001b[0m top_volume_options\u001b[39m.\u001b[39msort_values([\u001b[39m'\u001b[39m\u001b[39msample_date\u001b[39m\u001b[39m'\u001b[39m, \u001b[39m'\u001b[39m\u001b[39mtimestamp\u001b[39m\u001b[39m'\u001b[39m], ascending\u001b[39m=\u001b[39m[\u001b[39mTrue\u001b[39;00m, \u001b[39mFalse\u001b[39;00m], inplace\u001b[39m=\u001b[39m\u001b[39mTrue\u001b[39;00m)\n\u001b[1;32m     12\u001b[0m \u001b[39m# Group the options by their contract symbol, and calculate the average and standard deviation of the price changes\u001b[39;00m\n\u001b[0;32m---> 13\u001b[0m grouped \u001b[39m=\u001b[39m top_volume_options\u001b[39m.\u001b[39;49mgroupby(\u001b[39m'\u001b[39;49m\u001b[39mcontractSymbol\u001b[39;49m\u001b[39m'\u001b[39;49m)\u001b[39m.\u001b[39;49mreset_index()\n\u001b[1;32m     14\u001b[0m mean_changes \u001b[39m=\u001b[39m grouped[\u001b[39m'\u001b[39m\u001b[39mchange\u001b[39m\u001b[39m'\u001b[39m]\u001b[39m.\u001b[39mmean()\n\u001b[1;32m     15\u001b[0m std_changes \u001b[39m=\u001b[39m grouped[\u001b[39m'\u001b[39m\u001b[39mchange\u001b[39m\u001b[39m'\u001b[39m]\u001b[39m.\u001b[39mstd()\n",
      "File \u001b[0;32m~/miniforge3/envs/AutoGPTENV/lib/python3.10/site-packages/pandas/core/groupby/groupby.py:952\u001b[0m, in \u001b[0;36mGroupBy.__getattr__\u001b[0;34m(self, attr)\u001b[0m\n\u001b[1;32m    949\u001b[0m \u001b[39mif\u001b[39;00m attr \u001b[39min\u001b[39;00m \u001b[39mself\u001b[39m\u001b[39m.\u001b[39mobj:\n\u001b[1;32m    950\u001b[0m     \u001b[39mreturn\u001b[39;00m \u001b[39mself\u001b[39m[attr]\n\u001b[0;32m--> 952\u001b[0m \u001b[39mraise\u001b[39;00m \u001b[39mAttributeError\u001b[39;00m(\n\u001b[1;32m    953\u001b[0m     \u001b[39mf\u001b[39m\u001b[39m\"\u001b[39m\u001b[39m'\u001b[39m\u001b[39m{\u001b[39;00m\u001b[39mtype\u001b[39m(\u001b[39mself\u001b[39m)\u001b[39m.\u001b[39m\u001b[39m__name__\u001b[39m\u001b[39m}\u001b[39;00m\u001b[39m'\u001b[39m\u001b[39m object has no attribute \u001b[39m\u001b[39m'\u001b[39m\u001b[39m{\u001b[39;00mattr\u001b[39m}\u001b[39;00m\u001b[39m'\u001b[39m\u001b[39m\"\u001b[39m\n\u001b[1;32m    954\u001b[0m )\n",
      "\u001b[0;31mAttributeError\u001b[0m: 'DataFrameGroupBy' object has no attribute 'reset_index'"
     ]
    }
   ],
   "source": [
    "import matplotlib.pyplot as plt\n",
    "\n",
    "# Calculate the 80th percentile of volume for each day\n",
    "volume_threshold = df.groupby(level=0)['volume'].quantile(0.9)\n",
    "\n",
    "# For each day, select the options with volume greater than or equal to the threshold\n",
    "top_volume_options = df[df.groupby('sample_date')['volume'].transform(lambda x: x >= volume_threshold[x.name])]\n",
    "\n",
    "# Sort the DataFrame by sample_date and timestamp in descending order\n",
    "top_volume_options.sort_values(['sample_date', 'timestamp'], ascending=[True, False], inplace=True)\n",
    "\n",
    "# Group the options by their contract symbol, and calculate the average and standard deviation of the price changes\n",
    "grouped = top_volume_options.groupby('contractSymbol').reset_index()\n",
    "mean_changes = grouped['change'].mean()\n",
    "std_changes = grouped['change'].std()\n",
    "\n",
    "# Flag any options whose price change is more than two standard deviations away from the mean\n",
    "threshold = 2 * std_changes\n",
    "flagged = (df['change'] - mean_changes[df['expiryDate']].values) > threshold[df['expiryDate']].values\n",
    "\n",
    "# Create a scatter plot of the price changes, highlighting the flagged options\n",
    "fig, ax = plt.subplots()\n",
    "ax.scatter(df['expiryDate'], df['change'], alpha=0.5)\n",
    "ax.scatter(df.loc[flagged, 'expiryDate'], df.loc[flagged, 'change'], c='red')\n",
    "ax.set_xlabel('Expiration Date')\n",
    "ax.set_ylabel('Price Change')\n",
    "ax.set_title('Flagged Options')\n",
    "plt.show()\n"
   ]
  },
  {
   "cell_type": "code",
   "execution_count": null,
   "metadata": {},
   "outputs": [],
   "source": [
    "# Group the options by their expiration date, and calculate the mean volume for each expiration date\n",
    "grouped = df.groupby('expiryDate')['volume'].mean()\n",
    "\n",
    "# Sort the expiration dates by volume in descending order, and select the top 3 expiration dates\n",
    "top3 = grouped.sort_values(ascending=False).head(3)\n",
    "\n",
    "# Filter the data frame to only include options with the top 3 expiration dates\n",
    "df_top3 = df[df['expiryDate'].isin(top3.index)]\n",
    "\n",
    "# Group the top 3 expiration dates by their expiration date, and calculate the average and standard deviation of the price changes\n",
    "grouped_top3 = df_top3.groupby('expiryDate')\n",
    "mean_changes = grouped_top3['change'].mean()\n",
    "std_changes = grouped_top3['change'].std()\n",
    "\n",
    "# Flag any options whose price change is more than two standard deviations away from the mean\n",
    "threshold = 2 * std_changes\n",
    "flagged = (df_top3['change'] - mean_changes[df_top3['expiryDate']].values) > threshold[df_top3['expiryDate']].values\n",
    "\n",
    "# Create a scatter plot of the price changes for the top 3 expiration dates, highlighting the flagged options\n",
    "fig, ax = plt.subplots(figsize=(15, 7.5))\n",
    "for i, (name, group) in enumerate(df_top3.groupby('expiryDate')):\n",
    "    ax.scatter(group['timestamp'], group['change'], alpha=0.5, label=name if i == 0 else None)\n",
    "ax.scatter(df_top3.loc[flagged, 'timestamp'], df_top3.loc[flagged, 'change'], c='red')\n",
    "ax.set_xlabel('Timestamp')\n",
    "ax.set_ylabel('Price Change')\n",
    "ax.set_title('Flagged Options (Top 3 Expiration Dates by Volume)')\n",
    "ax.legend()\n",
    "plt.show()\n"
   ]
  }
 ],
 "metadata": {
  "kernelspec": {
   "display_name": "AutoGPTENV",
   "language": "python",
   "name": "python3"
  },
  "language_info": {
   "codemirror_mode": {
    "name": "ipython",
    "version": 3
   },
   "file_extension": ".py",
   "mimetype": "text/x-python",
   "name": "python",
   "nbconvert_exporter": "python",
   "pygments_lexer": "ipython3",
   "version": "3.10.11"
  },
  "orig_nbformat": 4
 },
 "nbformat": 4,
 "nbformat_minor": 2
}
