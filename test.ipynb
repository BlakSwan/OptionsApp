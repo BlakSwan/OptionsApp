{
 "cells": [
  {
   "cell_type": "code",
   "execution_count": 1,
   "metadata": {},
   "outputs": [
    {
     "name": "stderr",
     "output_type": "stream",
     "text": [
      "<string>:1: PerformanceWarning: Adding/subtracting object-dtype array to DatetimeArray not vectorized.\n"
     ]
    }
   ],
   "source": [
    "import pandas as pd\n",
    "import glob\n",
    "import datetime\n",
    "\n",
    "# Define the string that the file names must start with\n",
    "file_filter = 'AAPL'\n",
    "\n",
    "# Define the path to the directory containing the CSV files\n",
    "path = '/Users/chrisjackson/OptionsApp/data/' + file_filter\n",
    "\n",
    "# Use glob to get a list of all CSV files in the directory that start with the specified string\n",
    "all_files = glob.glob(path + \"/\" + file_filter + \"*.csv\")\n",
    "\n",
    "def add_sample_date(file_name):\n",
    "    # Read the CSV file into a data frame\n",
    "    df = pd.read_csv(file_name)\n",
    "    # Add a column to the data frame containing the date of the sample\n",
    "    df['sample_date'] = file_name[-16:-6]\n",
    "    return df\n",
    "\n",
    "# Combine all CSV files into a single data frame\n",
    "df = pd.concat((add_sample_date(f) for f in all_files), ignore_index=True)\n",
    "\n",
    "# Define a function to extract the expiration date from an OCC contract symbol\n",
    "def extract_expiry_date(occ_symbol):\n",
    "    year = int(occ_symbol[4:6])\n",
    "    month = int(occ_symbol[6:8])\n",
    "    day = int(occ_symbol[8:10])\n",
    "    expiry_date = datetime.datetime(year + 2000, month, day)\n",
    "    return expiry_date\n",
    "\n",
    "# Define a function to convert the timestamp to a datetime object\n",
    "def convert_timestamp(timestamp):\n",
    "    if len(timestamp) > 8:\n",
    "        timestamp = timestamp[-8:]        \n",
    "    hour = int(timestamp[0:2])\n",
    "    minute = int(timestamp[3:5])\n",
    "    second = int(timestamp[6:8])\n",
    "    return datetime.time(hour, minute, second)\n",
    "\n",
    "# Add a new column to the DataFrame with the expiry date\n",
    "df['expiryDate'] = df['contractSymbol'].apply(extract_expiry_date)\n",
    "\n",
    "# Add a new column with days to expiry\n",
    "df['daysToExpiry'] = df['expiryDate'] - df['sample_date'].apply(pd.to_datetime)\n",
    "\n",
    "# Convert the 'lastTradeDate' and 'timestamp' columns to datetime objects for future calculations\n",
    "df['lastTradeDate'] = pd.to_datetime(df['lastTradeDate'])\n",
    "\n",
    "# df['timestamp'] = pd.to_datetime(df['timestamp'], format='%H:%M:%S')\n",
    "df['timestamp'] = df['timestamp'].apply(convert_timestamp)\n",
    "\n",
    "# Drop the currency column\n",
    "df.drop('currency', axis=1, inplace=True)\n",
    "df.info()\n"
   ]
  },
  {
   "cell_type": "code",
   "execution_count": null,
   "metadata": {},
   "outputs": [],
   "source": [
    "# Need to sort this into a multi-index dataframe by sample date and contract symbol\n",
    "\n",
    "# Set the multi-index\n",
    "df.set_index(['sample_date', 'contractSymbol'], inplace=True)\n",
    "\n",
    "# Sort by the timestamp\n",
    "df = df.sort_values(by=['timestamp', 'expiryDate', 'strike'])\n"
   ]
  },
  {
   "cell_type": "code",
   "execution_count": null,
   "metadata": {},
   "outputs": [],
   "source": [
    "df.index.levels"
   ]
  },
  {
   "cell_type": "code",
   "execution_count": null,
   "metadata": {},
   "outputs": [],
   "source": [
    "df.loc['2023-04-19']"
   ]
  },
  {
   "cell_type": "code",
   "execution_count": null,
   "metadata": {},
   "outputs": [],
   "source": [
    "#Retreive the timestamp as a datetime object\n",
    "def get_timestamp_breakdown(timestamp):\n",
    "    hour = int(timestamp[0:2])\n",
    "    minute = int(timestamp[3:5])\n",
    "    second = int(timestamp[6:8])\n",
    "    return (hour, minute, second)"
   ]
  },
  {
   "cell_type": "code",
   "execution_count": null,
   "metadata": {},
   "outputs": [],
   "source": [
    "# Get the value where the in the money column changes from True to False, pass in the first timestamp level of the dataframe only for now\n",
    "def in_the_money(df):\n",
    "    # Add a column to the data frame containing the previous value of the inTheMoney column\n",
    "    df['previous_value'] = df['inTheMoney'].shift(1)\n",
    "    df['change_to_false'] = (df['previous_value'] == True) & (df['inTheMoney'] == False)\n",
    "\n",
    "    # Get the index of the first row where the value changed to False\n",
    "    first_change_index = df['change_to_false'].idxmax()\n",
    "\n",
    "    # Get the first row where the value changed to False\n",
    "    first_change_row = df.loc[first_change_index]\n",
    "\n",
    "    return first_change_row\n"
   ]
  },
  {
   "cell_type": "code",
   "execution_count": null,
   "metadata": {},
   "outputs": [],
   "source": [
    "import matplotlib.pyplot as plt\n",
    "\n",
    "# Data exploration and processing\n",
    "\n",
    "# Find where the in the money column changes from False to True, might be useful for plotting or modelling\n",
    "in_the_money_strike_at_open = []\n",
    "for date in df.index.levels[0]:\n",
    "    tempdf = df.loc[date]\n",
    "    fist_timestamp = tempdf['timestamp'].min()\n",
    "    first_change_row = in_the_money(tempdf[tempdf['timestamp'] == fist_timestamp])\n",
    "    in_the_money_strike_at_open.append(first_change_row)\n",
    "\n",
    "# Select the ten options adjacent to the strike price at the open\n",
    "for x in in_the_money_strike_at_open:\n",
    "    print(x)\n",
    "\n",
    " \n",
    "# Calculate the 90th percentile of volume for each day\n",
    "volume_threshold = df.groupby(level=0)['volume'].quantile(0.9)\n",
    "\n",
    "# For each day, select the options with volume greater than or equal to the threshold\n",
    "top_volume_options = df[df.groupby('sample_date')['volume'].transform(lambda x: x >= volume_threshold[x.name])]\n",
    "\n",
    "# Sort the DataFrame by sample_date and timestamp in descending order\n",
    "top_volume_options.sort_values(['sample_date', 'timestamp'], ascending=[True, False], inplace=True)\n",
    "\n",
    "# Group the options by their contract symbol, and calculate the average and standard deviation of the price changes\n",
    "grouped = top_volume_options.groupby('contractSymbol')\n",
    "mean_changes = grouped['change'].mean()\n",
    "std_changes = grouped['change'].std()\n",
    "\n",
    "# Flag any options whose price change is more than two standard deviations away from the mean\n",
    "threshold = 2 * std_changes\n",
    "flagged = (df['change'] - mean_changes[df['expiryDate']].values) > threshold[df['expiryDate']].values\n",
    "\n",
    "# Create a scatter plot of the price changes, highlighting the flagged options\n",
    "fig, ax = plt.subplots()\n",
    "ax.scatter(df['expiryDate'], df['change'], alpha=0.5)\n",
    "ax.scatter(df.loc[flagged, 'expiryDate'], df.loc[flagged, 'change'], c='red')\n",
    "ax.set_xlabel('Expiration Date')\n",
    "ax.set_ylabel('Price Change')\n",
    "ax.set_title('Flagged Options')\n",
    "plt.show()\n"
   ]
  },
  {
   "cell_type": "code",
   "execution_count": null,
   "metadata": {},
   "outputs": [],
   "source": [
    "# Group the options by their expiration date, and calculate the mean volume for each expiration date\n",
    "grouped = df.groupby('expiryDate')['volume'].mean()\n",
    "\n",
    "# Sort the expiration dates by volume in descending order, and select the top 3 expiration dates\n",
    "top3 = grouped.sort_values(ascending=False).head(3)\n",
    "\n",
    "# Filter the data frame to only include options with the top 3 expiration dates\n",
    "df_top3 = df[df['expiryDate'].isin(top3.index)]\n",
    "\n",
    "# Group the top 3 expiration dates by their expiration date, and calculate the average and standard deviation of the price changes\n",
    "grouped_top3 = df_top3.groupby('expiryDate')\n",
    "mean_changes = grouped_top3['change'].mean()\n",
    "std_changes = grouped_top3['change'].std()\n",
    "\n",
    "# Flag any options whose price change is more than two standard deviations away from the mean\n",
    "threshold = 2 * std_changes\n",
    "flagged = (df_top3['change'] - mean_changes[df_top3['expiryDate']].values) > threshold[df_top3['expiryDate']].values\n",
    "\n",
    "# Create a scatter plot of the price changes for the top 3 expiration dates, highlighting the flagged options\n",
    "fig, ax = plt.subplots(figsize=(15, 7.5))\n",
    "for i, (name, group) in enumerate(df_top3.groupby('expiryDate')):\n",
    "    ax.scatter(group['timestamp'], group['change'], alpha=0.5, label=name if i == 0 else None)\n",
    "ax.scatter(df_top3.loc[flagged, 'timestamp'], df_top3.loc[flagged, 'change'], c='red')\n",
    "ax.set_xlabel('Timestamp')\n",
    "ax.set_ylabel('Price Change')\n",
    "ax.set_title('Flagged Options (Top 3 Expiration Dates by Volume)')\n",
    "ax.legend()\n",
    "plt.show()\n"
   ]
  }
 ],
 "metadata": {
  "kernelspec": {
   "display_name": "AutoGPTENV",
   "language": "python",
   "name": "python3"
  },
  "language_info": {
   "codemirror_mode": {
    "name": "ipython",
    "version": 3
   },
   "file_extension": ".py",
   "mimetype": "text/x-python",
   "name": "python",
   "nbconvert_exporter": "python",
   "pygments_lexer": "ipython3",
   "version": "3.10.11"
  },
  "orig_nbformat": 4
 },
 "nbformat": 4,
 "nbformat_minor": 2
}
